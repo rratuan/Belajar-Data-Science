{
 "cells": [
  {
   "cell_type": "markdown",
   "metadata": {},
   "source": [
    "# **Libraries**"
   ]
  },
  {
   "cell_type": "code",
   "execution_count": 7,
   "metadata": {},
   "outputs": [],
   "source": [
    "import pandas as pd\n",
    "import matplotlib.pyplot as plt\n",
    "import numpy as np\n",
    "import seaborn as sns"
   ]
  },
  {
   "cell_type": "markdown",
   "metadata": {},
   "source": [
    "# **Data Loading**"
   ]
  },
  {
   "cell_type": "code",
   "execution_count": 8,
   "metadata": {},
   "outputs": [],
   "source": [
    "df_train = pd.read_csv(\"train_features.csv\")"
   ]
  },
  {
   "cell_type": "code",
   "execution_count": 9,
   "metadata": {},
   "outputs": [
    {
     "name": "stdout",
     "output_type": "stream",
     "text": [
      "<class 'pandas.core.frame.DataFrame'>\n",
      "RangeIndex: 3817 entries, 0 to 3816\n",
      "Data columns (total 16 columns):\n",
      " #   Column                   Non-Null Count  Dtype  \n",
      "---  ------                   --------------  -----  \n",
      " 0   tahun_kelahiran          3817 non-null   int64  \n",
      " 1   pendidikan               3628 non-null   object \n",
      " 2   status_pernikahan        3605 non-null   object \n",
      " 3   pendapatan               3627 non-null   float64\n",
      " 4   jumlah_anak_balita       3627 non-null   float64\n",
      " 5   jumlah_anak_remaja       3613 non-null   float64\n",
      " 6   terakhir_belanja         3645 non-null   float64\n",
      " 7   belanja_buah             3636 non-null   float64\n",
      " 8   belanja_daging           3639 non-null   float64\n",
      " 9   belanja_ikan             3624 non-null   float64\n",
      " 10  belanja_kue              3603 non-null   float64\n",
      " 11  pembelian_diskon         3639 non-null   float64\n",
      " 12  pembelian_web            3652 non-null   float64\n",
      " 13  pembelian_toko           3648 non-null   float64\n",
      " 14  keluhan                  3621 non-null   float64\n",
      " 15  tanggal_menjadi_anggota  1065 non-null   object \n",
      "dtypes: float64(12), int64(1), object(3)\n",
      "memory usage: 477.2+ KB\n"
     ]
    }
   ],
   "source": [
    "df_train.info()"
   ]
  },
  {
   "cell_type": "markdown",
   "metadata": {},
   "source": [
    "**insight:**\n",
    "1. Total baris keseluruhan ada 3817\n",
    "2. Yang tidak missing value hanya kolom tahun_kelahirn saja, selain itu missing value\n",
    "3. Type data kolom tangga_menjadi_anggota harusnya datetime"
   ]
  },
  {
   "cell_type": "code",
   "execution_count": 10,
   "metadata": {},
   "outputs": [
    {
     "name": "stdout",
     "output_type": "stream",
     "text": [
      "decimal not exit\n",
      "decimal not exit\n",
      "decimal not exit\n",
      "decimal not exit\n",
      "decimal not exit\n",
      "decimal not exit\n",
      "decimal not exit\n",
      "decimal not exit\n",
      "decimal not exit\n",
      "decimal not exit\n",
      "decimal not exit\n",
      "decimal not exit\n"
     ]
    }
   ],
   "source": [
    "def is_decimal(df, columns):\n",
    "    for col in columns:\n",
    "        decimals_exist = False\n",
    "        for value in df[col].dropna():\n",
    "            if value % 1 != 0:\n",
    "                decimals_exist = True\n",
    "                break\n",
    "        if decimals_exist:\n",
    "            print(\"decimal exist\")\n",
    "        else:\n",
    "            print(\"decimal not exit\")\n",
    "\n",
    "# Contoh penggunaan\n",
    "cols = [ 'pendapatan', 'jumlah_anak_balita', 'jumlah_anak_remaja', 'terakhir_belanja', 'belanja_buah', 'belanja_daging', 'belanja_ikan', 'belanja_kue', 'pembelian_diskon', 'pembelian_web', 'pembelian_toko', 'keluhan']\n",
    "is_decimal(df_train, cols)"
   ]
  },
  {
   "cell_type": "markdown",
   "metadata": {},
   "source": [
    "**insight :**\n",
    "Tujuan pengecekan nilai desimal pada fitur bertipe float adalah untuk memastikan data konsisten dan valid.Beberapa fitur, seperti jumlah_anak_balita tidak mungkin memiliki nilai decimal"
   ]
  },
  {
   "cell_type": "code",
   "execution_count": 11,
   "metadata": {},
   "outputs": [
    {
     "data": {
      "text/html": [
       "<div>\n",
       "<style scoped>\n",
       "    .dataframe tbody tr th:only-of-type {\n",
       "        vertical-align: middle;\n",
       "    }\n",
       "\n",
       "    .dataframe tbody tr th {\n",
       "        vertical-align: top;\n",
       "    }\n",
       "\n",
       "    .dataframe thead th {\n",
       "        text-align: right;\n",
       "    }\n",
       "</style>\n",
       "<table border=\"1\" class=\"dataframe\">\n",
       "  <thead>\n",
       "    <tr style=\"text-align: right;\">\n",
       "      <th></th>\n",
       "      <th>tahun_kelahiran</th>\n",
       "      <th>pendapatan</th>\n",
       "      <th>jumlah_anak_balita</th>\n",
       "      <th>jumlah_anak_remaja</th>\n",
       "      <th>terakhir_belanja</th>\n",
       "      <th>belanja_buah</th>\n",
       "      <th>belanja_daging</th>\n",
       "      <th>belanja_ikan</th>\n",
       "      <th>belanja_kue</th>\n",
       "      <th>pembelian_diskon</th>\n",
       "      <th>pembelian_web</th>\n",
       "      <th>pembelian_toko</th>\n",
       "      <th>keluhan</th>\n",
       "    </tr>\n",
       "  </thead>\n",
       "  <tbody>\n",
       "    <tr>\n",
       "      <th>count</th>\n",
       "      <td>3817.000000</td>\n",
       "      <td>3.627000e+03</td>\n",
       "      <td>3627.000000</td>\n",
       "      <td>3613.000000</td>\n",
       "      <td>3645.000000</td>\n",
       "      <td>3636.000000</td>\n",
       "      <td>3.639000e+03</td>\n",
       "      <td>3624.000000</td>\n",
       "      <td>3603.000000</td>\n",
       "      <td>3639.000000</td>\n",
       "      <td>3652.000000</td>\n",
       "      <td>3648.000000</td>\n",
       "      <td>3621.000000</td>\n",
       "    </tr>\n",
       "    <tr>\n",
       "      <th>mean</th>\n",
       "      <td>1967.823946</td>\n",
       "      <td>1.144832e+08</td>\n",
       "      <td>0.293080</td>\n",
       "      <td>0.353723</td>\n",
       "      <td>47.231550</td>\n",
       "      <td>59804.239824</td>\n",
       "      <td>4.385748e+05</td>\n",
       "      <td>81428.997792</td>\n",
       "      <td>63377.970580</td>\n",
       "      <td>2.125584</td>\n",
       "      <td>4.436473</td>\n",
       "      <td>5.767818</td>\n",
       "      <td>0.004971</td>\n",
       "    </tr>\n",
       "    <tr>\n",
       "      <th>std</th>\n",
       "      <td>11.768131</td>\n",
       "      <td>4.346042e+07</td>\n",
       "      <td>0.473063</td>\n",
       "      <td>0.493014</td>\n",
       "      <td>27.068512</td>\n",
       "      <td>74024.976109</td>\n",
       "      <td>5.120427e+05</td>\n",
       "      <td>99976.226855</td>\n",
       "      <td>79435.457282</td>\n",
       "      <td>2.100133</td>\n",
       "      <td>3.002522</td>\n",
       "      <td>3.210738</td>\n",
       "      <td>0.070340</td>\n",
       "    </tr>\n",
       "    <tr>\n",
       "      <th>min</th>\n",
       "      <td>1899.000000</td>\n",
       "      <td>5.073000e+06</td>\n",
       "      <td>0.000000</td>\n",
       "      <td>0.000000</td>\n",
       "      <td>0.000000</td>\n",
       "      <td>0.000000</td>\n",
       "      <td>0.000000e+00</td>\n",
       "      <td>0.000000</td>\n",
       "      <td>0.000000</td>\n",
       "      <td>0.000000</td>\n",
       "      <td>0.000000</td>\n",
       "      <td>0.000000</td>\n",
       "      <td>0.000000</td>\n",
       "    </tr>\n",
       "    <tr>\n",
       "      <th>25%</th>\n",
       "      <td>1959.000000</td>\n",
       "      <td>8.112512e+07</td>\n",
       "      <td>0.000000</td>\n",
       "      <td>0.000000</td>\n",
       "      <td>25.000000</td>\n",
       "      <td>7907.000000</td>\n",
       "      <td>4.947950e+04</td>\n",
       "      <td>10115.000000</td>\n",
       "      <td>7947.000000</td>\n",
       "      <td>0.000000</td>\n",
       "      <td>2.000000</td>\n",
       "      <td>3.000000</td>\n",
       "      <td>0.000000</td>\n",
       "    </tr>\n",
       "    <tr>\n",
       "      <th>50%</th>\n",
       "      <td>1968.000000</td>\n",
       "      <td>1.156214e+08</td>\n",
       "      <td>0.000000</td>\n",
       "      <td>0.000000</td>\n",
       "      <td>47.000000</td>\n",
       "      <td>26456.000000</td>\n",
       "      <td>2.219930e+05</td>\n",
       "      <td>36054.500000</td>\n",
       "      <td>27795.000000</td>\n",
       "      <td>2.000000</td>\n",
       "      <td>4.000000</td>\n",
       "      <td>5.000000</td>\n",
       "      <td>0.000000</td>\n",
       "    </tr>\n",
       "    <tr>\n",
       "      <th>75%</th>\n",
       "      <td>1976.000000</td>\n",
       "      <td>1.504960e+08</td>\n",
       "      <td>1.000000</td>\n",
       "      <td>1.000000</td>\n",
       "      <td>69.000000</td>\n",
       "      <td>86162.000000</td>\n",
       "      <td>6.863555e+05</td>\n",
       "      <td>121380.000000</td>\n",
       "      <td>89502.500000</td>\n",
       "      <td>3.000000</td>\n",
       "      <td>7.000000</td>\n",
       "      <td>8.000000</td>\n",
       "      <td>0.000000</td>\n",
       "    </tr>\n",
       "    <tr>\n",
       "      <th>max</th>\n",
       "      <td>2000.000000</td>\n",
       "      <td>3.328840e+08</td>\n",
       "      <td>2.000000</td>\n",
       "      <td>2.000000</td>\n",
       "      <td>128.000000</td>\n",
       "      <td>396508.000000</td>\n",
       "      <td>3.489675e+06</td>\n",
       "      <td>621600.000000</td>\n",
       "      <td>542164.000000</td>\n",
       "      <td>20.000000</td>\n",
       "      <td>30.000000</td>\n",
       "      <td>17.000000</td>\n",
       "      <td>1.000000</td>\n",
       "    </tr>\n",
       "  </tbody>\n",
       "</table>\n",
       "</div>"
      ],
      "text/plain": [
       "       tahun_kelahiran    pendapatan  jumlah_anak_balita  jumlah_anak_remaja  \\\n",
       "count      3817.000000  3.627000e+03         3627.000000         3613.000000   \n",
       "mean       1967.823946  1.144832e+08            0.293080            0.353723   \n",
       "std          11.768131  4.346042e+07            0.473063            0.493014   \n",
       "min        1899.000000  5.073000e+06            0.000000            0.000000   \n",
       "25%        1959.000000  8.112512e+07            0.000000            0.000000   \n",
       "50%        1968.000000  1.156214e+08            0.000000            0.000000   \n",
       "75%        1976.000000  1.504960e+08            1.000000            1.000000   \n",
       "max        2000.000000  3.328840e+08            2.000000            2.000000   \n",
       "\n",
       "       terakhir_belanja   belanja_buah  belanja_daging   belanja_ikan  \\\n",
       "count       3645.000000    3636.000000    3.639000e+03    3624.000000   \n",
       "mean          47.231550   59804.239824    4.385748e+05   81428.997792   \n",
       "std           27.068512   74024.976109    5.120427e+05   99976.226855   \n",
       "min            0.000000       0.000000    0.000000e+00       0.000000   \n",
       "25%           25.000000    7907.000000    4.947950e+04   10115.000000   \n",
       "50%           47.000000   26456.000000    2.219930e+05   36054.500000   \n",
       "75%           69.000000   86162.000000    6.863555e+05  121380.000000   \n",
       "max          128.000000  396508.000000    3.489675e+06  621600.000000   \n",
       "\n",
       "         belanja_kue  pembelian_diskon  pembelian_web  pembelian_toko  \\\n",
       "count    3603.000000       3639.000000    3652.000000     3648.000000   \n",
       "mean    63377.970580          2.125584       4.436473        5.767818   \n",
       "std     79435.457282          2.100133       3.002522        3.210738   \n",
       "min         0.000000          0.000000       0.000000        0.000000   \n",
       "25%      7947.000000          0.000000       2.000000        3.000000   \n",
       "50%     27795.000000          2.000000       4.000000        5.000000   \n",
       "75%     89502.500000          3.000000       7.000000        8.000000   \n",
       "max    542164.000000         20.000000      30.000000       17.000000   \n",
       "\n",
       "           keluhan  \n",
       "count  3621.000000  \n",
       "mean      0.004971  \n",
       "std       0.070340  \n",
       "min       0.000000  \n",
       "25%       0.000000  \n",
       "50%       0.000000  \n",
       "75%       0.000000  \n",
       "max       1.000000  "
      ]
     },
     "execution_count": 11,
     "metadata": {},
     "output_type": "execute_result"
    }
   ],
   "source": [
    "df_train.describe()"
   ]
  },
  {
   "cell_type": "markdown",
   "metadata": {},
   "source": [
    "**insight:**\n",
    "1. dilihat dari jarak antara mean dan median serta quartil,beberapa fitur kemungkinan memiliki distribusi normal\n",
    "2. semua fitur belanja memiliki distribusi skew\n",
    "3. dilihat dari jarak antar quartil dan nilai max,selain fitur jumlah anak memiliki outlier\n",
    "4. varians dari tiap fitur bernilai positif\n",
    "5. beberapa fitur memiliki nilai nya tinggi tinggi,maka di perlukan scalling data\n"
   ]
  },
  {
   "cell_type": "code",
   "execution_count": 19,
   "metadata": {},
   "outputs": [
    {
     "data": {
      "text/plain": [
       "0"
      ]
     },
     "execution_count": 19,
     "metadata": {},
     "output_type": "execute_result"
    }
   ],
   "source": [
    "df_train.duplicated().sum()"
   ]
  },
  {
   "cell_type": "markdown",
   "metadata": {},
   "source": [
    "**insight:**\n",
    "tidak ada data duplicate"
   ]
  },
  {
   "cell_type": "code",
   "execution_count": 20,
   "metadata": {},
   "outputs": [],
   "source": [
    "y_train = pd.read_csv('train_labels.csv')"
   ]
  },
  {
   "cell_type": "code",
   "execution_count": 21,
   "metadata": {},
   "outputs": [
    {
     "data": {
      "text/html": [
       "<div>\n",
       "<style scoped>\n",
       "    .dataframe tbody tr th:only-of-type {\n",
       "        vertical-align: middle;\n",
       "    }\n",
       "\n",
       "    .dataframe tbody tr th {\n",
       "        vertical-align: top;\n",
       "    }\n",
       "\n",
       "    .dataframe thead th {\n",
       "        text-align: right;\n",
       "    }\n",
       "</style>\n",
       "<table border=\"1\" class=\"dataframe\">\n",
       "  <thead>\n",
       "    <tr style=\"text-align: right;\">\n",
       "      <th></th>\n",
       "      <th>jumlah_promosi</th>\n",
       "    </tr>\n",
       "  </thead>\n",
       "  <tbody>\n",
       "    <tr>\n",
       "      <th>0</th>\n",
       "      <td>2</td>\n",
       "    </tr>\n",
       "    <tr>\n",
       "      <th>1</th>\n",
       "      <td>0</td>\n",
       "    </tr>\n",
       "    <tr>\n",
       "      <th>2</th>\n",
       "      <td>1</td>\n",
       "    </tr>\n",
       "    <tr>\n",
       "      <th>3</th>\n",
       "      <td>4</td>\n",
       "    </tr>\n",
       "    <tr>\n",
       "      <th>4</th>\n",
       "      <td>4</td>\n",
       "    </tr>\n",
       "    <tr>\n",
       "      <th>...</th>\n",
       "      <td>...</td>\n",
       "    </tr>\n",
       "    <tr>\n",
       "      <th>3812</th>\n",
       "      <td>5</td>\n",
       "    </tr>\n",
       "    <tr>\n",
       "      <th>3813</th>\n",
       "      <td>1</td>\n",
       "    </tr>\n",
       "    <tr>\n",
       "      <th>3814</th>\n",
       "      <td>0</td>\n",
       "    </tr>\n",
       "    <tr>\n",
       "      <th>3815</th>\n",
       "      <td>0</td>\n",
       "    </tr>\n",
       "    <tr>\n",
       "      <th>3816</th>\n",
       "      <td>0</td>\n",
       "    </tr>\n",
       "  </tbody>\n",
       "</table>\n",
       "<p>3817 rows × 1 columns</p>\n",
       "</div>"
      ],
      "text/plain": [
       "      jumlah_promosi\n",
       "0                  2\n",
       "1                  0\n",
       "2                  1\n",
       "3                  4\n",
       "4                  4\n",
       "...              ...\n",
       "3812               5\n",
       "3813               1\n",
       "3814               0\n",
       "3815               0\n",
       "3816               0\n",
       "\n",
       "[3817 rows x 1 columns]"
      ]
     },
     "execution_count": 21,
     "metadata": {},
     "output_type": "execute_result"
    }
   ],
   "source": [
    "y_train"
   ]
  },
  {
   "cell_type": "markdown",
   "metadata": {},
   "source": [
    "# **EDA**"
   ]
  },
  {
   "cell_type": "markdown",
   "metadata": {},
   "source": [
    "1. Bagaimana missing value terjadi?\n",
    "2. Bagaimana distribusi data di tiap fitur?\n",
    "3. Apakah terdapat outlier?\n",
    "4. Apakah datanya balance?"
   ]
  }
 ],
 "metadata": {
  "kernelspec": {
   "display_name": "venv",
   "language": "python",
   "name": "python3"
  },
  "language_info": {
   "codemirror_mode": {
    "name": "ipython",
    "version": 3
   },
   "file_extension": ".py",
   "mimetype": "text/x-python",
   "name": "python",
   "nbconvert_exporter": "python",
   "pygments_lexer": "ipython3",
   "version": "3.10.9"
  }
 },
 "nbformat": 4,
 "nbformat_minor": 2
}
