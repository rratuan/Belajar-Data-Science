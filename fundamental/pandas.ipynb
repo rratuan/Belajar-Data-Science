{
 "cells": [
  {
   "cell_type": "code",
   "execution_count": 3,
   "metadata": {},
   "outputs": [
    {
     "name": "stderr",
     "output_type": "stream",
     "text": [
      "C:\\Users\\ratua\\AppData\\Local\\Temp\\ipykernel_19876\\4080736814.py:1: DeprecationWarning: \n",
      "Pyarrow will become a required dependency of pandas in the next major release of pandas (pandas 3.0),\n",
      "(to allow more performant data types, such as the Arrow string type, and better interoperability with other libraries)\n",
      "but was not found to be installed on your system.\n",
      "If this would cause problems for you,\n",
      "please provide us feedback at https://github.com/pandas-dev/pandas/issues/54466\n",
      "        \n",
      "  import pandas as pd\n"
     ]
    }
   ],
   "source": [
    "import pandas as pd"
   ]
  },
  {
   "cell_type": "markdown",
   "metadata": {},
   "source": [
    "### biasanya tara bikin table biasanamah import dari file tapi kalo ini contoh kalo mau bikin table"
   ]
  },
  {
   "cell_type": "code",
   "execution_count": 4,
   "metadata": {},
   "outputs": [],
   "source": [
    "data = {\n",
    "    \"Nama\":[\"ardi\",\"fajar\",\"ratu\"],\n",
    "    \"Usia\":[\"20\",\"19\",\"18\"],\n",
    "    \"Kota\":[\"Cisurupan\",\"Garut\",\"Cikajang\"]\n",
    "}"
   ]
  },
  {
   "cell_type": "markdown",
   "metadata": {},
   "source": [
    "### nah kan diatasmah cuman variable directory yah hampir mirip dengan array tapi ada nama kolom na\n",
    "#### nah terus dibikin dataframe na siga dibawah"
   ]
  },
  {
   "cell_type": "code",
   "execution_count": 5,
   "metadata": {},
   "outputs": [],
   "source": [
    "df = pd.DataFrame(data)"
   ]
  },
  {
   "cell_type": "markdown",
   "metadata": {},
   "source": [
    "### cara nampilin dataframe sebenerna bisa pake print yah nanti kamu coba sendiri apa bedanya"
   ]
  },
  {
   "cell_type": "code",
   "execution_count": 6,
   "metadata": {},
   "outputs": [
    {
     "data": {
      "text/html": [
       "<div>\n",
       "<style scoped>\n",
       "    .dataframe tbody tr th:only-of-type {\n",
       "        vertical-align: middle;\n",
       "    }\n",
       "\n",
       "    .dataframe tbody tr th {\n",
       "        vertical-align: top;\n",
       "    }\n",
       "\n",
       "    .dataframe thead th {\n",
       "        text-align: right;\n",
       "    }\n",
       "</style>\n",
       "<table border=\"1\" class=\"dataframe\">\n",
       "  <thead>\n",
       "    <tr style=\"text-align: right;\">\n",
       "      <th></th>\n",
       "      <th>Nama</th>\n",
       "      <th>Usia</th>\n",
       "      <th>Kota</th>\n",
       "    </tr>\n",
       "  </thead>\n",
       "  <tbody>\n",
       "    <tr>\n",
       "      <th>0</th>\n",
       "      <td>ardi</td>\n",
       "      <td>20</td>\n",
       "      <td>Cisurupan</td>\n",
       "    </tr>\n",
       "    <tr>\n",
       "      <th>1</th>\n",
       "      <td>fajar</td>\n",
       "      <td>19</td>\n",
       "      <td>Garut</td>\n",
       "    </tr>\n",
       "    <tr>\n",
       "      <th>2</th>\n",
       "      <td>ratu</td>\n",
       "      <td>18</td>\n",
       "      <td>Cikajang</td>\n",
       "    </tr>\n",
       "  </tbody>\n",
       "</table>\n",
       "</div>"
      ],
      "text/plain": [
       "    Nama Usia       Kota\n",
       "0   ardi   20  Cisurupan\n",
       "1  fajar   19      Garut\n",
       "2   ratu   18   Cikajang"
      ]
     },
     "metadata": {},
     "output_type": "display_data"
    }
   ],
   "source": [
    "display(df)"
   ]
  },
  {
   "cell_type": "markdown",
   "metadata": {},
   "source": [
    "### nampilin berdasarkan kolom dan bisa lebih dari 1 kolom\n",
    "#### jadi ditulis nama kolom na dibelakang mirip kayak array tapi kalo array mah kan index na inimah nama kolom na"
   ]
  },
  {
   "cell_type": "code",
   "execution_count": 7,
   "metadata": {},
   "outputs": [
    {
     "data": {
      "text/plain": [
       "0     ardi\n",
       "1    fajar\n",
       "2     ratu\n",
       "Name: Nama, dtype: object"
      ]
     },
     "metadata": {},
     "output_type": "display_data"
    }
   ],
   "source": [
    "display(df[\"Nama\"])"
   ]
  },
  {
   "cell_type": "code",
   "execution_count": 8,
   "metadata": {},
   "outputs": [
    {
     "data": {
      "text/html": [
       "<div>\n",
       "<style scoped>\n",
       "    .dataframe tbody tr th:only-of-type {\n",
       "        vertical-align: middle;\n",
       "    }\n",
       "\n",
       "    .dataframe tbody tr th {\n",
       "        vertical-align: top;\n",
       "    }\n",
       "\n",
       "    .dataframe thead th {\n",
       "        text-align: right;\n",
       "    }\n",
       "</style>\n",
       "<table border=\"1\" class=\"dataframe\">\n",
       "  <thead>\n",
       "    <tr style=\"text-align: right;\">\n",
       "      <th></th>\n",
       "      <th>Nama</th>\n",
       "      <th>Usia</th>\n",
       "    </tr>\n",
       "  </thead>\n",
       "  <tbody>\n",
       "    <tr>\n",
       "      <th>0</th>\n",
       "      <td>ardi</td>\n",
       "      <td>20</td>\n",
       "    </tr>\n",
       "    <tr>\n",
       "      <th>1</th>\n",
       "      <td>fajar</td>\n",
       "      <td>19</td>\n",
       "    </tr>\n",
       "    <tr>\n",
       "      <th>2</th>\n",
       "      <td>ratu</td>\n",
       "      <td>18</td>\n",
       "    </tr>\n",
       "  </tbody>\n",
       "</table>\n",
       "</div>"
      ],
      "text/plain": [
       "    Nama Usia\n",
       "0   ardi   20\n",
       "1  fajar   19\n",
       "2   ratu   18"
      ]
     },
     "metadata": {},
     "output_type": "display_data"
    }
   ],
   "source": [
    "display(df[[\"Nama\",\"Usia\"]])"
   ]
  },
  {
   "cell_type": "markdown",
   "metadata": {},
   "source": [
    "### nah kan kalo kamu liat usia teh tipe datana string bukan int kita coba rubah jadi int\n",
    "### tapi kan nanti mah kolom na teh bakal loba apalagi import data nah gimana cara cek na ada dibawah"
   ]
  },
  {
   "cell_type": "code",
   "execution_count": 9,
   "metadata": {},
   "outputs": [
    {
     "data": {
      "text/plain": [
       "Nama    object\n",
       "Usia    object\n",
       "Kota    object\n",
       "dtype: object"
      ]
     },
     "metadata": {},
     "output_type": "display_data"
    }
   ],
   "source": [
    "display(df.dtypes)"
   ]
  },
  {
   "cell_type": "code",
   "execution_count": 10,
   "metadata": {},
   "outputs": [],
   "source": [
    "df[\"Usia\"] = df[\"Usia\"].astype(int)"
   ]
  },
  {
   "cell_type": "markdown",
   "metadata": {},
   "source": [
    "### kita liat lagi "
   ]
  },
  {
   "cell_type": "code",
   "execution_count": 11,
   "metadata": {},
   "outputs": [
    {
     "data": {
      "text/plain": [
       "Nama    object\n",
       "Usia     int32\n",
       "Kota    object\n",
       "dtype: object"
      ]
     },
     "metadata": {},
     "output_type": "display_data"
    }
   ],
   "source": [
    "display(df.dtypes)"
   ]
  },
  {
   "cell_type": "markdown",
   "metadata": {},
   "source": [
    "### nah misal mau bikin kolom baru tapi berdasarkan kolom usia buat cari tahun lahirnya"
   ]
  },
  {
   "cell_type": "code",
   "execution_count": 12,
   "metadata": {},
   "outputs": [],
   "source": [
    "df[\"Tanggal_Lahir\"] = 2024 - df[\"Usia\"]"
   ]
  },
  {
   "cell_type": "markdown",
   "metadata": {},
   "source": [
    "### jika dilihat lagi ini tuh kalo di array 2 dimensi itu pasti bakal pake perulangan kan , nah kalo di pandas bisa langsung jadi otomatis dan lihat hasil na dibawah"
   ]
  },
  {
   "cell_type": "code",
   "execution_count": 13,
   "metadata": {},
   "outputs": [
    {
     "data": {
      "text/html": [
       "<div>\n",
       "<style scoped>\n",
       "    .dataframe tbody tr th:only-of-type {\n",
       "        vertical-align: middle;\n",
       "    }\n",
       "\n",
       "    .dataframe tbody tr th {\n",
       "        vertical-align: top;\n",
       "    }\n",
       "\n",
       "    .dataframe thead th {\n",
       "        text-align: right;\n",
       "    }\n",
       "</style>\n",
       "<table border=\"1\" class=\"dataframe\">\n",
       "  <thead>\n",
       "    <tr style=\"text-align: right;\">\n",
       "      <th></th>\n",
       "      <th>Nama</th>\n",
       "      <th>Usia</th>\n",
       "      <th>Kota</th>\n",
       "      <th>Tanggal_Lahir</th>\n",
       "    </tr>\n",
       "  </thead>\n",
       "  <tbody>\n",
       "    <tr>\n",
       "      <th>0</th>\n",
       "      <td>ardi</td>\n",
       "      <td>20</td>\n",
       "      <td>Cisurupan</td>\n",
       "      <td>2004</td>\n",
       "    </tr>\n",
       "    <tr>\n",
       "      <th>1</th>\n",
       "      <td>fajar</td>\n",
       "      <td>19</td>\n",
       "      <td>Garut</td>\n",
       "      <td>2005</td>\n",
       "    </tr>\n",
       "    <tr>\n",
       "      <th>2</th>\n",
       "      <td>ratu</td>\n",
       "      <td>18</td>\n",
       "      <td>Cikajang</td>\n",
       "      <td>2006</td>\n",
       "    </tr>\n",
       "  </tbody>\n",
       "</table>\n",
       "</div>"
      ],
      "text/plain": [
       "    Nama  Usia       Kota  Tanggal_Lahir\n",
       "0   ardi    20  Cisurupan           2004\n",
       "1  fajar    19      Garut           2005\n",
       "2   ratu    18   Cikajang           2006"
      ]
     },
     "metadata": {},
     "output_type": "display_data"
    }
   ],
   "source": [
    "display(df)"
   ]
  },
  {
   "cell_type": "markdown",
   "metadata": {},
   "source": [
    "### masih keneh kurang gereget bikin kolom na yaudah urang pake if-ifan"
   ]
  },
  {
   "cell_type": "markdown",
   "metadata": {},
   "source": [
    "#### ini contoh kalo pake perulangan jadi pure gak pake pandas"
   ]
  },
  {
   "cell_type": "code",
   "execution_count": 14,
   "metadata": {},
   "outputs": [
    {
     "data": {
      "text/html": [
       "<div>\n",
       "<style scoped>\n",
       "    .dataframe tbody tr th:only-of-type {\n",
       "        vertical-align: middle;\n",
       "    }\n",
       "\n",
       "    .dataframe tbody tr th {\n",
       "        vertical-align: top;\n",
       "    }\n",
       "\n",
       "    .dataframe thead th {\n",
       "        text-align: right;\n",
       "    }\n",
       "</style>\n",
       "<table border=\"1\" class=\"dataframe\">\n",
       "  <thead>\n",
       "    <tr style=\"text-align: right;\">\n",
       "      <th></th>\n",
       "      <th>Nama</th>\n",
       "      <th>Usia</th>\n",
       "      <th>Kota</th>\n",
       "      <th>Tanggal_Lahir</th>\n",
       "      <th>Ganjil_genal_v1</th>\n",
       "    </tr>\n",
       "  </thead>\n",
       "  <tbody>\n",
       "    <tr>\n",
       "      <th>0</th>\n",
       "      <td>ardi</td>\n",
       "      <td>20</td>\n",
       "      <td>Cisurupan</td>\n",
       "      <td>2004</td>\n",
       "      <td>Genap</td>\n",
       "    </tr>\n",
       "    <tr>\n",
       "      <th>1</th>\n",
       "      <td>fajar</td>\n",
       "      <td>19</td>\n",
       "      <td>Garut</td>\n",
       "      <td>2005</td>\n",
       "      <td>Ganjil</td>\n",
       "    </tr>\n",
       "    <tr>\n",
       "      <th>2</th>\n",
       "      <td>ratu</td>\n",
       "      <td>18</td>\n",
       "      <td>Cikajang</td>\n",
       "      <td>2006</td>\n",
       "      <td>Genap</td>\n",
       "    </tr>\n",
       "  </tbody>\n",
       "</table>\n",
       "</div>"
      ],
      "text/plain": [
       "    Nama  Usia       Kota  Tanggal_Lahir Ganjil_genal_v1\n",
       "0   ardi    20  Cisurupan           2004           Genap\n",
       "1  fajar    19      Garut           2005          Ganjil\n",
       "2   ratu    18   Cikajang           2006           Genap"
      ]
     },
     "metadata": {},
     "output_type": "display_data"
    }
   ],
   "source": [
    "ganjil_genap = [] # jadi kita pake list kosong buat nampung dulu\n",
    "for i in df[\"Tanggal_Lahir\"]:\n",
    "    if i % 2 == 0:\n",
    "        ganjil_genap.append(\"Genap\")\n",
    "    else :\n",
    "        ganjil_genap.append(\"Ganjil\")\n",
    "#masukan kedalam data frame yah\n",
    "df[\"Ganjil_genal_v1\"] = ganjil_genap\n",
    "# dan list / array juga bisa dimasukan ke dataframe untuk kolom asalkan panjang dataframe dan list sama\n",
    "display(df)\n",
    "        "
   ]
  },
  {
   "cell_type": "markdown",
   "metadata": {},
   "source": [
    "#### ini kalo pake pandas"
   ]
  },
  {
   "cell_type": "code",
   "execution_count": 15,
   "metadata": {},
   "outputs": [
    {
     "data": {
      "text/html": [
       "<div>\n",
       "<style scoped>\n",
       "    .dataframe tbody tr th:only-of-type {\n",
       "        vertical-align: middle;\n",
       "    }\n",
       "\n",
       "    .dataframe tbody tr th {\n",
       "        vertical-align: top;\n",
       "    }\n",
       "\n",
       "    .dataframe thead th {\n",
       "        text-align: right;\n",
       "    }\n",
       "</style>\n",
       "<table border=\"1\" class=\"dataframe\">\n",
       "  <thead>\n",
       "    <tr style=\"text-align: right;\">\n",
       "      <th></th>\n",
       "      <th>Nama</th>\n",
       "      <th>Usia</th>\n",
       "      <th>Kota</th>\n",
       "      <th>Tanggal_Lahir</th>\n",
       "      <th>Ganjil_genal_v1</th>\n",
       "      <th>Ganjil_genal_v2</th>\n",
       "    </tr>\n",
       "  </thead>\n",
       "  <tbody>\n",
       "    <tr>\n",
       "      <th>0</th>\n",
       "      <td>ardi</td>\n",
       "      <td>20</td>\n",
       "      <td>Cisurupan</td>\n",
       "      <td>2004</td>\n",
       "      <td>Genap</td>\n",
       "      <td>True</td>\n",
       "    </tr>\n",
       "    <tr>\n",
       "      <th>1</th>\n",
       "      <td>fajar</td>\n",
       "      <td>19</td>\n",
       "      <td>Garut</td>\n",
       "      <td>2005</td>\n",
       "      <td>Ganjil</td>\n",
       "      <td>False</td>\n",
       "    </tr>\n",
       "    <tr>\n",
       "      <th>2</th>\n",
       "      <td>ratu</td>\n",
       "      <td>18</td>\n",
       "      <td>Cikajang</td>\n",
       "      <td>2006</td>\n",
       "      <td>Genap</td>\n",
       "      <td>True</td>\n",
       "    </tr>\n",
       "  </tbody>\n",
       "</table>\n",
       "</div>"
      ],
      "text/plain": [
       "    Nama  Usia       Kota  Tanggal_Lahir Ganjil_genal_v1  Ganjil_genal_v2\n",
       "0   ardi    20  Cisurupan           2004           Genap             True\n",
       "1  fajar    19      Garut           2005          Ganjil            False\n",
       "2   ratu    18   Cikajang           2006           Genap             True"
      ]
     },
     "metadata": {},
     "output_type": "display_data"
    }
   ],
   "source": [
    "# jadi dibuatkan dulu kolom baru tapi nilainya itu true / false\n",
    "df[\"Ganjil_genal_v2\"] = df[\"Tanggal_Lahir\"] % 2 == 0\n",
    "display(df)"
   ]
  },
  {
   "cell_type": "code",
   "execution_count": 16,
   "metadata": {},
   "outputs": [
    {
     "data": {
      "text/html": [
       "<div>\n",
       "<style scoped>\n",
       "    .dataframe tbody tr th:only-of-type {\n",
       "        vertical-align: middle;\n",
       "    }\n",
       "\n",
       "    .dataframe tbody tr th {\n",
       "        vertical-align: top;\n",
       "    }\n",
       "\n",
       "    .dataframe thead th {\n",
       "        text-align: right;\n",
       "    }\n",
       "</style>\n",
       "<table border=\"1\" class=\"dataframe\">\n",
       "  <thead>\n",
       "    <tr style=\"text-align: right;\">\n",
       "      <th></th>\n",
       "      <th>Nama</th>\n",
       "      <th>Usia</th>\n",
       "      <th>Kota</th>\n",
       "      <th>Tanggal_Lahir</th>\n",
       "      <th>Ganjil_genal_v1</th>\n",
       "      <th>Ganjil_genal_v2</th>\n",
       "    </tr>\n",
       "  </thead>\n",
       "  <tbody>\n",
       "    <tr>\n",
       "      <th>0</th>\n",
       "      <td>ardi</td>\n",
       "      <td>20</td>\n",
       "      <td>Cisurupan</td>\n",
       "      <td>2004</td>\n",
       "      <td>Genap</td>\n",
       "      <td>Genap</td>\n",
       "    </tr>\n",
       "    <tr>\n",
       "      <th>1</th>\n",
       "      <td>fajar</td>\n",
       "      <td>19</td>\n",
       "      <td>Garut</td>\n",
       "      <td>2005</td>\n",
       "      <td>Ganjil</td>\n",
       "      <td>Ganjil</td>\n",
       "    </tr>\n",
       "    <tr>\n",
       "      <th>2</th>\n",
       "      <td>ratu</td>\n",
       "      <td>18</td>\n",
       "      <td>Cikajang</td>\n",
       "      <td>2006</td>\n",
       "      <td>Genap</td>\n",
       "      <td>Genap</td>\n",
       "    </tr>\n",
       "  </tbody>\n",
       "</table>\n",
       "</div>"
      ],
      "text/plain": [
       "    Nama  Usia       Kota  Tanggal_Lahir Ganjil_genal_v1 Ganjil_genal_v2\n",
       "0   ardi    20  Cisurupan           2004           Genap           Genap\n",
       "1  fajar    19      Garut           2005          Ganjil          Ganjil\n",
       "2   ratu    18   Cikajang           2006           Genap           Genap"
      ]
     },
     "metadata": {},
     "output_type": "display_data"
    }
   ],
   "source": [
    "# nah karna udah true sama false bisa gunain map jadi kayak ngerubah liat aja contoh nya yaa\n",
    "df[\"Ganjil_genal_v2\"] = df[\"Ganjil_genal_v2\"].map({True:\"Genap\", False:\"Ganjil\"})\n",
    "# nah btw kalo kolom itu bisa di timpah yaa\n",
    "display(df)"
   ]
  },
  {
   "cell_type": "markdown",
   "metadata": {},
   "source": [
    "### nah terus bagaimana jika kondisina banyak kan kalo diatas mah cuma binary\n",
    "#### kalo akumah biasana pake function biar enak gak pake perulangan yang panjang"
   ]
  },
  {
   "cell_type": "code",
   "execution_count": 17,
   "metadata": {},
   "outputs": [],
   "source": [
    "def percobaan(usia):\n",
    "    if usia > 20:\n",
    "        return \"Kolot\"\n",
    "    elif usia == 19:\n",
    "        return \"muda\"\n",
    "    else :\n",
    "        return \"sangat muda\""
   ]
  },
  {
   "cell_type": "code",
   "execution_count": 24,
   "metadata": {},
   "outputs": [
    {
     "data": {
      "text/html": [
       "<div>\n",
       "<style scoped>\n",
       "    .dataframe tbody tr th:only-of-type {\n",
       "        vertical-align: middle;\n",
       "    }\n",
       "\n",
       "    .dataframe tbody tr th {\n",
       "        vertical-align: top;\n",
       "    }\n",
       "\n",
       "    .dataframe thead th {\n",
       "        text-align: right;\n",
       "    }\n",
       "</style>\n",
       "<table border=\"1\" class=\"dataframe\">\n",
       "  <thead>\n",
       "    <tr style=\"text-align: right;\">\n",
       "      <th></th>\n",
       "      <th>Nama</th>\n",
       "      <th>Usia</th>\n",
       "      <th>Kota</th>\n",
       "      <th>Tanggal_Lahir</th>\n",
       "      <th>Ganjil_genal_v1</th>\n",
       "      <th>Ganjil_genal_v2</th>\n",
       "      <th>percobaan</th>\n",
       "    </tr>\n",
       "  </thead>\n",
       "  <tbody>\n",
       "    <tr>\n",
       "      <th>0</th>\n",
       "      <td>ardi</td>\n",
       "      <td>20</td>\n",
       "      <td>Cisurupan</td>\n",
       "      <td>2004</td>\n",
       "      <td>Genap</td>\n",
       "      <td>Genap</td>\n",
       "      <td>sangat muda</td>\n",
       "    </tr>\n",
       "    <tr>\n",
       "      <th>1</th>\n",
       "      <td>fajar</td>\n",
       "      <td>19</td>\n",
       "      <td>Garut</td>\n",
       "      <td>2005</td>\n",
       "      <td>Ganjil</td>\n",
       "      <td>Ganjil</td>\n",
       "      <td>muda</td>\n",
       "    </tr>\n",
       "    <tr>\n",
       "      <th>2</th>\n",
       "      <td>ratu</td>\n",
       "      <td>18</td>\n",
       "      <td>Cikajang</td>\n",
       "      <td>2006</td>\n",
       "      <td>Genap</td>\n",
       "      <td>Genap</td>\n",
       "      <td>sangat muda</td>\n",
       "    </tr>\n",
       "  </tbody>\n",
       "</table>\n",
       "</div>"
      ],
      "text/plain": [
       "    Nama  Usia       Kota  Tanggal_Lahir Ganjil_genal_v1 Ganjil_genal_v2  \\\n",
       "0   ardi    20  Cisurupan           2004           Genap           Genap   \n",
       "1  fajar    19      Garut           2005          Ganjil          Ganjil   \n",
       "2   ratu    18   Cikajang           2006           Genap           Genap   \n",
       "\n",
       "     percobaan  \n",
       "0  sangat muda  \n",
       "1         muda  \n",
       "2  sangat muda  "
      ]
     },
     "metadata": {},
     "output_type": "display_data"
    }
   ],
   "source": [
    "df[\"percobaan\"] = df[\"Usia\"].map(percobaan)\n",
    "display(df)"
   ]
  },
  {
   "cell_type": "markdown",
   "metadata": {},
   "source": [
    "### jika kamu liat fungsi map juga bisa digunain pake method didalem na dan df[\"usia\"] itu jadi parameter na kayak gitu lagi"
   ]
  },
  {
   "cell_type": "markdown",
   "metadata": {},
   "source": [
    "### cara liat summary na yang pas kamu latihan tea nah ini kalo di pandas na kan kamu bikin fure nah inimah pake libraru"
   ]
  },
  {
   "cell_type": "code",
   "execution_count": 19,
   "metadata": {},
   "outputs": [
    {
     "data": {
      "text/html": [
       "<div>\n",
       "<style scoped>\n",
       "    .dataframe tbody tr th:only-of-type {\n",
       "        vertical-align: middle;\n",
       "    }\n",
       "\n",
       "    .dataframe tbody tr th {\n",
       "        vertical-align: top;\n",
       "    }\n",
       "\n",
       "    .dataframe thead th {\n",
       "        text-align: right;\n",
       "    }\n",
       "</style>\n",
       "<table border=\"1\" class=\"dataframe\">\n",
       "  <thead>\n",
       "    <tr style=\"text-align: right;\">\n",
       "      <th></th>\n",
       "      <th>Usia</th>\n",
       "      <th>Tanggal_Lahir</th>\n",
       "    </tr>\n",
       "  </thead>\n",
       "  <tbody>\n",
       "    <tr>\n",
       "      <th>count</th>\n",
       "      <td>3.0</td>\n",
       "      <td>3.0</td>\n",
       "    </tr>\n",
       "    <tr>\n",
       "      <th>mean</th>\n",
       "      <td>19.0</td>\n",
       "      <td>2005.0</td>\n",
       "    </tr>\n",
       "    <tr>\n",
       "      <th>std</th>\n",
       "      <td>1.0</td>\n",
       "      <td>1.0</td>\n",
       "    </tr>\n",
       "    <tr>\n",
       "      <th>min</th>\n",
       "      <td>18.0</td>\n",
       "      <td>2004.0</td>\n",
       "    </tr>\n",
       "    <tr>\n",
       "      <th>25%</th>\n",
       "      <td>18.5</td>\n",
       "      <td>2004.5</td>\n",
       "    </tr>\n",
       "    <tr>\n",
       "      <th>50%</th>\n",
       "      <td>19.0</td>\n",
       "      <td>2005.0</td>\n",
       "    </tr>\n",
       "    <tr>\n",
       "      <th>75%</th>\n",
       "      <td>19.5</td>\n",
       "      <td>2005.5</td>\n",
       "    </tr>\n",
       "    <tr>\n",
       "      <th>max</th>\n",
       "      <td>20.0</td>\n",
       "      <td>2006.0</td>\n",
       "    </tr>\n",
       "  </tbody>\n",
       "</table>\n",
       "</div>"
      ],
      "text/plain": [
       "       Usia  Tanggal_Lahir\n",
       "count   3.0            3.0\n",
       "mean   19.0         2005.0\n",
       "std     1.0            1.0\n",
       "min    18.0         2004.0\n",
       "25%    18.5         2004.5\n",
       "50%    19.0         2005.0\n",
       "75%    19.5         2005.5\n",
       "max    20.0         2006.0"
      ]
     },
     "metadata": {},
     "output_type": "display_data"
    }
   ],
   "source": [
    "display(df.describe())"
   ]
  },
  {
   "cell_type": "markdown",
   "metadata": {},
   "source": [
    "# dan inget kalo dipandas itu enak pake display daripada print yaa\n"
   ]
  },
  {
   "cell_type": "markdown",
   "metadata": {},
   "source": [
    "# mangats belajarnyaa\n",
    "# wopyuuu"
   ]
  },
  {
   "cell_type": "code",
   "execution_count": null,
   "metadata": {},
   "outputs": [],
   "source": []
  }
 ],
 "metadata": {
  "kernelspec": {
   "display_name": ".env",
   "language": "python",
   "name": "python3"
  },
  "language_info": {
   "codemirror_mode": {
    "name": "ipython",
    "version": 3
   },
   "file_extension": ".py",
   "mimetype": "text/x-python",
   "name": "python",
   "nbconvert_exporter": "python",
   "pygments_lexer": "ipython3",
   "version": "3.10.9"
  }
 },
 "nbformat": 4,
 "nbformat_minor": 2
}
